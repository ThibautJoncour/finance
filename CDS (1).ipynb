{
 "cells": [
  {
   "cell_type": "markdown",
   "id": "8587cba3",
   "metadata": {},
   "source": [
    "# Pricing de CDS "
   ]
  },
  {
   "cell_type": "code",
   "execution_count": 55,
   "id": "6789ad9a",
   "metadata": {},
   "outputs": [],
   "source": [
    "import pandas as pd\n",
    "import math\n",
    "import numpy as np"
   ]
  },
  {
   "cell_type": "markdown",
   "id": "fd0c92c2",
   "metadata": {},
   "source": [
    "### Parametres du CDS"
   ]
  },
  {
   "cell_type": "code",
   "execution_count": null,
   "id": "d26b2947",
   "metadata": {},
   "outputs": [],
   "source": [
    "emetteurs = 'Atos.SA'\n",
    "maturite = 5 \n",
    "taux_recouvrement = 0.4  \n",
    "taux_actualisation = 0.05  \n",
    "proba_defaut = 0.02\n"
   ]
  },
  {
   "cell_type": "markdown",
   "id": "4b98b88c",
   "metadata": {},
   "source": [
    "## 1) Valeur actuelle esperée des paiments sur le CDS ( paiement s par an)"
   ]
  },
  {
   "cell_type": "code",
   "execution_count": 40,
   "id": "764698c1",
   "metadata": {},
   "outputs": [],
   "source": [
    "\n",
    "\n",
    "class prime_vendeur_CDS:\n",
    "    \n",
    "    def __init__(self, proba_defaut, taux_actualisation, maturite):\n",
    "        self.df = pd.DataFrame()\n",
    "        self.proba_defaut = proba_defaut\n",
    "        self.taux_actualisation = taux_actualisation\n",
    "        self.maturite = maturite\n",
    "\n",
    "    def calculer_valeur(self):\n",
    "        self.df['Maturité'] = range(1, self.maturite + 1)\n",
    "        self.df['Probabilité de survie'] = -self.proba_defaut * self.df['Maturité']\n",
    "        self.df['Probabilité de survie'] = self.df['Probabilité de survie'].apply(lambda x: math.exp(x))\n",
    "        self.df['Probabilité de defaut'] = abs(self.df['Probabilité de survie'] - self.df['Probabilité de survie'].shift(1))\n",
    "        self.df.iloc[0, self.df.columns.get_loc('Probabilité de defaut')] = self.proba_defaut\n",
    "\n",
    "        self.df['Actualisation'] = -self.taux_actualisation * self.df['Maturité']\n",
    "        self.df['Actualisation'] = self.df['Actualisation'].apply(lambda x: math.exp(x))\n",
    "        self.df['Valeur actuelle'] = self.df['Actualisation'] * self.df['Probabilité de survie']\n",
    "        \n",
    "    def probabilité_defaut(self):\n",
    "        return (self.df['Probabilité de defaut'])\n",
    "            \n",
    "    def proba_survie(self):\n",
    "        return (self.df['Probabilité de survie'])\n",
    "\n",
    "    def afficher_resultat(self):\n",
    "        print(f\"La valeur actuelle esperée de l'ensemble des paiements est égal à {round(sum(self.df['Valeur actuelle']),4)} s\")\n",
    "        print(f\"pour le vendeur du CDS\")\n",
    "\n",
    "        return (self.df)\n",
    "    \n",
    "    def valeur_espérée(self):\n",
    "        return sum(self.df['Valeur actuelle'])\n",
    "\n",
    "    \n",
    "\n"
   ]
  },
  {
   "cell_type": "code",
   "execution_count": 45,
   "id": "7e95f618",
   "metadata": {},
   "outputs": [
    {
     "name": "stdout",
     "output_type": "stream",
     "text": [
      "La valeur actuelle esperée de l'ensemble des paiements est égal à 4.0728 s\n",
      "pour le vendeur du CDS\n"
     ]
    },
    {
     "data": {
      "text/html": [
       "<div>\n",
       "<style scoped>\n",
       "    .dataframe tbody tr th:only-of-type {\n",
       "        vertical-align: middle;\n",
       "    }\n",
       "\n",
       "    .dataframe tbody tr th {\n",
       "        vertical-align: top;\n",
       "    }\n",
       "\n",
       "    .dataframe thead th {\n",
       "        text-align: right;\n",
       "    }\n",
       "</style>\n",
       "<table border=\"1\" class=\"dataframe\">\n",
       "  <thead>\n",
       "    <tr style=\"text-align: right;\">\n",
       "      <th></th>\n",
       "      <th>Maturité</th>\n",
       "      <th>Probabilité de survie</th>\n",
       "      <th>Probabilité de defaut</th>\n",
       "      <th>Actualisation</th>\n",
       "      <th>Valeur actuelle</th>\n",
       "    </tr>\n",
       "  </thead>\n",
       "  <tbody>\n",
       "    <tr>\n",
       "      <th>0</th>\n",
       "      <td>1</td>\n",
       "      <td>0.980199</td>\n",
       "      <td>0.020000</td>\n",
       "      <td>0.951229</td>\n",
       "      <td>0.932394</td>\n",
       "    </tr>\n",
       "    <tr>\n",
       "      <th>1</th>\n",
       "      <td>2</td>\n",
       "      <td>0.960789</td>\n",
       "      <td>0.019409</td>\n",
       "      <td>0.904837</td>\n",
       "      <td>0.869358</td>\n",
       "    </tr>\n",
       "    <tr>\n",
       "      <th>2</th>\n",
       "      <td>3</td>\n",
       "      <td>0.941765</td>\n",
       "      <td>0.019025</td>\n",
       "      <td>0.860708</td>\n",
       "      <td>0.810584</td>\n",
       "    </tr>\n",
       "    <tr>\n",
       "      <th>3</th>\n",
       "      <td>4</td>\n",
       "      <td>0.923116</td>\n",
       "      <td>0.018648</td>\n",
       "      <td>0.818731</td>\n",
       "      <td>0.755784</td>\n",
       "    </tr>\n",
       "    <tr>\n",
       "      <th>4</th>\n",
       "      <td>5</td>\n",
       "      <td>0.904837</td>\n",
       "      <td>0.018279</td>\n",
       "      <td>0.778801</td>\n",
       "      <td>0.704688</td>\n",
       "    </tr>\n",
       "  </tbody>\n",
       "</table>\n",
       "</div>"
      ],
      "text/plain": [
       "   Maturité  Probabilité de survie  Probabilité de defaut  Actualisation  \\\n",
       "0         1               0.980199               0.020000       0.951229   \n",
       "1         2               0.960789               0.019409       0.904837   \n",
       "2         3               0.941765               0.019025       0.860708   \n",
       "3         4               0.923116               0.018648       0.818731   \n",
       "4         5               0.904837               0.018279       0.778801   \n",
       "\n",
       "   Valeur actuelle  \n",
       "0         0.932394  \n",
       "1         0.869358  \n",
       "2         0.810584  \n",
       "3         0.755784  \n",
       "4         0.704688  "
      ]
     },
     "execution_count": 45,
     "metadata": {},
     "output_type": "execute_result"
    }
   ],
   "source": [
    "prime_vendeur =prime_vendeur_CDS(proba_defaut, taux_actualisation, maturite)\n",
    "prime_vendeur.calculer_valeur()\n",
    "prime_vendeur.probabilité_defaut()\n",
    "prime_vendeur.afficher_resultat()\n"
   ]
  },
  {
   "cell_type": "markdown",
   "id": "bd3ee910",
   "metadata": {},
   "source": [
    "## 2) Valeur actuelle esperée des paiments sur le CDS en cas de défaut ( pour une unité de nominal )"
   ]
  },
  {
   "cell_type": "code",
   "execution_count": null,
   "id": "7d4b6378",
   "metadata": {},
   "outputs": [],
   "source": [
    "class prime_acheteur_CDS(prime_vendeur_CDS):\n",
    "    \n",
    "    def __init__(self, taux_recouvrement, taux_actualisation, proba_defaut, maturite):\n",
    "        super().__init__(proba_defaut, taux_actualisation, maturite)\n",
    "        self.df1 = pd.DataFrame()\n",
    "        self.taux_recouvrement = taux_recouvrement\n",
    "        self.prime_vendeur = prime_vendeur\n",
    "\n",
    "    def calculer_recouvrement(self):\n",
    "        \n",
    "        self.df1['Date'] = np.arange(0.5, self.maturite+ 0.5, 1)\n",
    "        self.df1['Probabilité de defaut'] = prime_vendeur.probabilité_defaut()\n",
    "        self.df1['Taux de recouvrement'] = self.taux_recouvrement\n",
    "        self.df1['Actualisation'] = -self.taux_actualisation * self.df1['Date']\n",
    "        self.df1['Actualisation'] = self.df1['Actualisation'].apply(lambda x: math.exp(x))\n",
    "        self.df1['Valeur actuelle'] = self.df1['Actualisation'] * self.df1['Probabilité de defaut'] * (1 - self.taux_recouvrement)\n",
    "\n",
    "    def afficher_resultat(self):\n",
    "        print(f\"La valeur actuelle esperée du montant total reçu (payoff)\")\n",
    "        print(f\"en cas de défaut est {round(sum(self.df1['Valeur actuelle']),4)}\")\n",
    "\n",
    "        return self.df1\n",
    "        \n",
    "    def valeur_espérée(self):\n",
    "        return sum(self.df1['Valeur actuelle'])\n"
   ]
  },
  {
   "cell_type": "code",
   "execution_count": 46,
   "id": "94856743",
   "metadata": {},
   "outputs": [
    {
     "name": "stdout",
     "output_type": "stream",
     "text": [
      "La valeur actuelle esperée du montant total reçu (payoff)\n",
      "en cas de défaut est 0.0545\n"
     ]
    },
    {
     "data": {
      "text/html": [
       "<div>\n",
       "<style scoped>\n",
       "    .dataframe tbody tr th:only-of-type {\n",
       "        vertical-align: middle;\n",
       "    }\n",
       "\n",
       "    .dataframe tbody tr th {\n",
       "        vertical-align: top;\n",
       "    }\n",
       "\n",
       "    .dataframe thead th {\n",
       "        text-align: right;\n",
       "    }\n",
       "</style>\n",
       "<table border=\"1\" class=\"dataframe\">\n",
       "  <thead>\n",
       "    <tr style=\"text-align: right;\">\n",
       "      <th></th>\n",
       "      <th>Date</th>\n",
       "      <th>Probabilité de defaut</th>\n",
       "      <th>Taux de recouvrement</th>\n",
       "      <th>Actualisation</th>\n",
       "      <th>Valeur actuelle</th>\n",
       "    </tr>\n",
       "  </thead>\n",
       "  <tbody>\n",
       "    <tr>\n",
       "      <th>0</th>\n",
       "      <td>0.5</td>\n",
       "      <td>0.020000</td>\n",
       "      <td>0.4</td>\n",
       "      <td>0.990050</td>\n",
       "      <td>0.011881</td>\n",
       "    </tr>\n",
       "    <tr>\n",
       "      <th>1</th>\n",
       "      <td>1.5</td>\n",
       "      <td>0.019409</td>\n",
       "      <td>0.4</td>\n",
       "      <td>0.970446</td>\n",
       "      <td>0.011301</td>\n",
       "    </tr>\n",
       "    <tr>\n",
       "      <th>2</th>\n",
       "      <td>2.5</td>\n",
       "      <td>0.019025</td>\n",
       "      <td>0.4</td>\n",
       "      <td>0.951229</td>\n",
       "      <td>0.010858</td>\n",
       "    </tr>\n",
       "    <tr>\n",
       "      <th>3</th>\n",
       "      <td>3.5</td>\n",
       "      <td>0.018648</td>\n",
       "      <td>0.4</td>\n",
       "      <td>0.932394</td>\n",
       "      <td>0.010432</td>\n",
       "    </tr>\n",
       "    <tr>\n",
       "      <th>4</th>\n",
       "      <td>4.5</td>\n",
       "      <td>0.018279</td>\n",
       "      <td>0.4</td>\n",
       "      <td>0.913931</td>\n",
       "      <td>0.010023</td>\n",
       "    </tr>\n",
       "  </tbody>\n",
       "</table>\n",
       "</div>"
      ],
      "text/plain": [
       "   Date  Probabilité de defaut  Taux de recouvrement  Actualisation  \\\n",
       "0   0.5               0.020000                   0.4       0.990050   \n",
       "1   1.5               0.019409                   0.4       0.970446   \n",
       "2   2.5               0.019025                   0.4       0.951229   \n",
       "3   3.5               0.018648                   0.4       0.932394   \n",
       "4   4.5               0.018279                   0.4       0.913931   \n",
       "\n",
       "   Valeur actuelle  \n",
       "0         0.011881  \n",
       "1         0.011301  \n",
       "2         0.010858  \n",
       "3         0.010432  \n",
       "4         0.010023  "
      ]
     },
     "execution_count": 46,
     "metadata": {},
     "output_type": "execute_result"
    }
   ],
   "source": [
    "\n",
    "prime_acheteur = prime_acheteur_CDS(taux_recouvrement,proba_defaut, taux_actualisation, maturite)\n",
    "prime_acheteur.calculer_recouvrement()\n",
    "prime_acheteur.afficher_resultat()"
   ]
  },
  {
   "cell_type": "markdown",
   "id": "48eeb49e",
   "metadata": {},
   "source": [
    "## 3) Valeur actuelle residuel esperée des paiments sur le CDS en cas de défaut ( pour une unité de nominal )"
   ]
  },
  {
   "cell_type": "code",
   "execution_count": null,
   "id": "fe4bb511",
   "metadata": {},
   "outputs": [],
   "source": [
    "class prime_residuel_vendeur_CDS(prime_vendeur_CDS):\n",
    "    \n",
    "\n",
    "    def __init__(self, taux_actualisation, proba_defaut, maturite):\n",
    "        super().__init__(proba_defaut, taux_actualisation, maturite)\n",
    "        self.df1 = pd.DataFrame()\n",
    "        \n",
    "\n",
    "    def calculer_recouvrement(self):\n",
    "        \n",
    "        self.df1['Date'] = np.arange(0.5, self.maturite+ 0.5, 1)\n",
    "        self.df1['Probabilité de defaut'] = prime_vendeur.probabilité_defaut()\n",
    "        self.df1['Actualisation'] = -self.taux_actualisation * self.df1['Date']\n",
    "        self.df1['Actualisation'] = self.df1['Actualisation'].apply(lambda x: math.exp(x))\n",
    "        self.df1['Valeur actuelle'] = self.df1['Actualisation'] * self.df1['Probabilité de defaut'] * 0.5\n",
    "\n",
    "    def afficher_resultat(self):\n",
    "        print(f\"La valeur actuelle esperée du montant residuel reçu (payoff)\")\n",
    "        print(f\"en cas de défaut est {round(sum(self.df1['Valeur actuelle']),4)} s\")\n",
    "        return self.df1\n",
    "        \n",
    "    def valeur_espérée(self):\n",
    "        return sum(self.df1['Valeur actuelle'])"
   ]
  },
  {
   "cell_type": "code",
   "execution_count": 47,
   "id": "5297db0c",
   "metadata": {},
   "outputs": [
    {
     "name": "stdout",
     "output_type": "stream",
     "text": [
      "La valeur actuelle esperée du montant residuel reçu (payoff)\n",
      "en cas de défaut est 0.0423 s\n"
     ]
    },
    {
     "data": {
      "text/html": [
       "<div>\n",
       "<style scoped>\n",
       "    .dataframe tbody tr th:only-of-type {\n",
       "        vertical-align: middle;\n",
       "    }\n",
       "\n",
       "    .dataframe tbody tr th {\n",
       "        vertical-align: top;\n",
       "    }\n",
       "\n",
       "    .dataframe thead th {\n",
       "        text-align: right;\n",
       "    }\n",
       "</style>\n",
       "<table border=\"1\" class=\"dataframe\">\n",
       "  <thead>\n",
       "    <tr style=\"text-align: right;\">\n",
       "      <th></th>\n",
       "      <th>Date</th>\n",
       "      <th>Probabilité de defaut</th>\n",
       "      <th>Actualisation</th>\n",
       "      <th>Valeur actuelle</th>\n",
       "    </tr>\n",
       "  </thead>\n",
       "  <tbody>\n",
       "    <tr>\n",
       "      <th>0</th>\n",
       "      <td>0.5</td>\n",
       "      <td>0.020000</td>\n",
       "      <td>0.975310</td>\n",
       "      <td>0.009753</td>\n",
       "    </tr>\n",
       "    <tr>\n",
       "      <th>1</th>\n",
       "      <td>1.5</td>\n",
       "      <td>0.019409</td>\n",
       "      <td>0.927743</td>\n",
       "      <td>0.009003</td>\n",
       "    </tr>\n",
       "    <tr>\n",
       "      <th>2</th>\n",
       "      <td>2.5</td>\n",
       "      <td>0.019025</td>\n",
       "      <td>0.882497</td>\n",
       "      <td>0.008395</td>\n",
       "    </tr>\n",
       "    <tr>\n",
       "      <th>3</th>\n",
       "      <td>3.5</td>\n",
       "      <td>0.018648</td>\n",
       "      <td>0.839457</td>\n",
       "      <td>0.007827</td>\n",
       "    </tr>\n",
       "    <tr>\n",
       "      <th>4</th>\n",
       "      <td>4.5</td>\n",
       "      <td>0.018279</td>\n",
       "      <td>0.798516</td>\n",
       "      <td>0.007298</td>\n",
       "    </tr>\n",
       "  </tbody>\n",
       "</table>\n",
       "</div>"
      ],
      "text/plain": [
       "   Date  Probabilité de defaut  Actualisation  Valeur actuelle\n",
       "0   0.5               0.020000       0.975310         0.009753\n",
       "1   1.5               0.019409       0.927743         0.009003\n",
       "2   2.5               0.019025       0.882497         0.008395\n",
       "3   3.5               0.018648       0.839457         0.007827\n",
       "4   4.5               0.018279       0.798516         0.007298"
      ]
     },
     "execution_count": 47,
     "metadata": {},
     "output_type": "execute_result"
    }
   ],
   "source": [
    "spread_residuel = prime_residuel_vendeur_CDS(taux_actualisation,proba_defaut, maturite)\n",
    "spread_residuel.calculer_recouvrement()\n",
    "spread_residuel.afficher_resultat()"
   ]
  },
  {
   "cell_type": "markdown",
   "id": "609e084e",
   "metadata": {},
   "source": [
    "## 4) Evaluation du CDS "
   ]
  },
  {
   "cell_type": "code",
   "execution_count": 54,
   "id": "b1bb53ce",
   "metadata": {},
   "outputs": [
    {
     "name": "stdout",
     "output_type": "stream",
     "text": [
      "Le Spread du CDS sur Atos.SA est de :\n",
      "132.43 bp par an\n"
     ]
    }
   ],
   "source": [
    "print(f\"Le Spread du CDS sur {emetteurs} est de :\")\n",
    "print(f\"{round((prime_acheteur.valeur_espérée()/(prime_vendeur.valeur_espérée() + spread_residuel.valeur_espérée())*10000),2)} bp par an\")"
   ]
  },
  {
   "cell_type": "code",
   "execution_count": null,
   "id": "a0089c44",
   "metadata": {},
   "outputs": [],
   "source": []
  },
  {
   "cell_type": "code",
   "execution_count": null,
   "id": "012dc1d6",
   "metadata": {},
   "outputs": [],
   "source": []
  }
 ],
 "metadata": {
  "kernelspec": {
   "display_name": "Python 3 (ipykernel)",
   "language": "python",
   "name": "python3"
  },
  "language_info": {
   "codemirror_mode": {
    "name": "ipython",
    "version": 3
   },
   "file_extension": ".py",
   "mimetype": "text/x-python",
   "name": "python",
   "nbconvert_exporter": "python",
   "pygments_lexer": "ipython3",
   "version": "3.11.4"
  }
 },
 "nbformat": 4,
 "nbformat_minor": 5
}
