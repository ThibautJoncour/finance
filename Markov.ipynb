{
 "cells": [
  {
   "cell_type": "code",
   "execution_count": 1,
   "id": "65435426",
   "metadata": {},
   "outputs": [
    {
     "name": "stderr",
     "output_type": "stream",
     "text": [
      "MultinomialHMM has undergone major changes. The previous version was implementing a CategoricalHMM (a special case of MultinomialHMM). This new implementation follows the standard definition for a Multinomial distribution (e.g. as in https://en.wikipedia.org/wiki/Multinomial_distribution). See these issues for details:\n",
      "https://github.com/hmmlearn/hmmlearn/issues/335\n",
      "https://github.com/hmmlearn/hmmlearn/issues/340\n"
     ]
    },
    {
     "ename": "ValueError",
     "evalue": "For sampling, a single n_trials must be given",
     "output_type": "error",
     "traceback": [
      "\u001b[1;31m---------------------------------------------------------------------------\u001b[0m",
      "\u001b[1;31mValueError\u001b[0m                                Traceback (most recent call last)",
      "File \u001b[1;32m~\\anaconda3\\Lib\\site-packages\\hmmlearn\\_emissions.py:365\u001b[0m, in \u001b[0;36mBaseMultinomialHMM._generate_sample_from_state\u001b[1;34m(self, state, random_state)\u001b[0m\n\u001b[0;32m    364\u001b[0m \u001b[38;5;28;01mtry\u001b[39;00m:\n\u001b[1;32m--> 365\u001b[0m     n_trials, \u001b[38;5;241m=\u001b[39m np\u001b[38;5;241m.\u001b[39munique(\u001b[38;5;28mself\u001b[39m\u001b[38;5;241m.\u001b[39mn_trials)\n\u001b[0;32m    366\u001b[0m \u001b[38;5;28;01mexcept\u001b[39;00m \u001b[38;5;167;01mValueError\u001b[39;00m:\n",
      "\u001b[1;31mValueError\u001b[0m: too many values to unpack (expected 1)",
      "\nDuring handling of the above exception, another exception occurred:\n",
      "\u001b[1;31mValueError\u001b[0m                                Traceback (most recent call last)",
      "Cell \u001b[1;32mIn[1], line 19\u001b[0m\n\u001b[0;32m     16\u001b[0m modele_markov\u001b[38;5;241m.\u001b[39mfit(df[\u001b[38;5;124m'\u001b[39m\u001b[38;5;124metat\u001b[39m\u001b[38;5;124m'\u001b[39m]\u001b[38;5;241m.\u001b[39mvalues\u001b[38;5;241m.\u001b[39mreshape(\u001b[38;5;241m-\u001b[39m\u001b[38;5;241m1\u001b[39m, \u001b[38;5;241m1\u001b[39m))\n\u001b[0;32m     18\u001b[0m \u001b[38;5;66;03m# Générez des échantillons à partir du modèle\u001b[39;00m\n\u001b[1;32m---> 19\u001b[0m echantillons, _ \u001b[38;5;241m=\u001b[39m modele_markov\u001b[38;5;241m.\u001b[39msample(n_samples\u001b[38;5;241m=\u001b[39m\u001b[38;5;28mlen\u001b[39m(df))\n\u001b[0;32m     21\u001b[0m \u001b[38;5;66;03m# Imprimez les états générés\u001b[39;00m\n\u001b[0;32m     22\u001b[0m \u001b[38;5;28mprint\u001b[39m(\u001b[38;5;124m\"\u001b[39m\u001b[38;5;124mÉtats générés :\u001b[39m\u001b[38;5;124m\"\u001b[39m)\n",
      "File \u001b[1;32m~\\anaconda3\\Lib\\site-packages\\hmmlearn\\base.py:429\u001b[0m, in \u001b[0;36m_AbstractHMM.sample\u001b[1;34m(self, n_samples, random_state, currstate)\u001b[0m\n\u001b[0;32m    426\u001b[0m     currstate \u001b[38;5;241m=\u001b[39m (startprob_cdf \u001b[38;5;241m>\u001b[39m random_state\u001b[38;5;241m.\u001b[39mrand())\u001b[38;5;241m.\u001b[39margmax()\n\u001b[0;32m    428\u001b[0m state_sequence \u001b[38;5;241m=\u001b[39m [currstate]\n\u001b[1;32m--> 429\u001b[0m X \u001b[38;5;241m=\u001b[39m [\u001b[38;5;28mself\u001b[39m\u001b[38;5;241m.\u001b[39m_generate_sample_from_state(\n\u001b[0;32m    430\u001b[0m     currstate, random_state\u001b[38;5;241m=\u001b[39mrandom_state)]\n\u001b[0;32m    432\u001b[0m \u001b[38;5;28;01mfor\u001b[39;00m t \u001b[38;5;129;01min\u001b[39;00m \u001b[38;5;28mrange\u001b[39m(n_samples \u001b[38;5;241m-\u001b[39m \u001b[38;5;241m1\u001b[39m):\n\u001b[0;32m    433\u001b[0m     currstate \u001b[38;5;241m=\u001b[39m (\n\u001b[0;32m    434\u001b[0m         (transmat_cdf[currstate] \u001b[38;5;241m>\u001b[39m random_state\u001b[38;5;241m.\u001b[39mrand())\u001b[38;5;241m.\u001b[39margmax())\n",
      "File \u001b[1;32m~\\anaconda3\\Lib\\site-packages\\hmmlearn\\_emissions.py:367\u001b[0m, in \u001b[0;36mBaseMultinomialHMM._generate_sample_from_state\u001b[1;34m(self, state, random_state)\u001b[0m\n\u001b[0;32m    365\u001b[0m     n_trials, \u001b[38;5;241m=\u001b[39m np\u001b[38;5;241m.\u001b[39munique(\u001b[38;5;28mself\u001b[39m\u001b[38;5;241m.\u001b[39mn_trials)\n\u001b[0;32m    366\u001b[0m \u001b[38;5;28;01mexcept\u001b[39;00m \u001b[38;5;167;01mValueError\u001b[39;00m:\n\u001b[1;32m--> 367\u001b[0m     \u001b[38;5;28;01mraise\u001b[39;00m \u001b[38;5;167;01mValueError\u001b[39;00m(\u001b[38;5;124m\"\u001b[39m\u001b[38;5;124mFor sampling, a single n_trials must be given\u001b[39m\u001b[38;5;124m\"\u001b[39m)\n\u001b[0;32m    368\u001b[0m \u001b[38;5;28;01mreturn\u001b[39;00m multinomial\u001b[38;5;241m.\u001b[39mrvs(n\u001b[38;5;241m=\u001b[39mn_trials, p\u001b[38;5;241m=\u001b[39m\u001b[38;5;28mself\u001b[39m\u001b[38;5;241m.\u001b[39memissionprob_[state, :],\n\u001b[0;32m    369\u001b[0m                        random_state\u001b[38;5;241m=\u001b[39mrandom_state)\n",
      "\u001b[1;31mValueError\u001b[0m: For sampling, a single n_trials must be given"
     ]
    }
   ],
   "source": [
    "import pandas as pd\n",
    "import numpy as np\n",
    "from hmmlearn import hmm\n",
    "\n",
    "# Générez un DataFrame avec des données de corrélation entre -1 et 1\n",
    "np.random.seed(42)\n",
    "data_size = 100\n",
    "data = {'correlation': np.random.uniform(-1, 1, data_size)}\n",
    "df = pd.DataFrame(data)\n",
    "\n",
    "# Convertissez la colonne 'correlation' en une série d'états binaires (0 ou 1)\n",
    "df['etat'] = df['correlation'].apply(lambda x: 1 if x > 0 else 0)\n",
    "\n",
    "# Créez le modèle de chaîne de Markov\n",
    "modele_markov = hmm.MultinomialHMM(n_components=2, n_iter=100)\n",
    "modele_markov.fit(df['etat'].values.reshape(-1, 1))\n",
    "\n",
    "# Générez des échantillons à partir du modèle\n",
    "echantillons, _ = modele_markov.sample(n_samples=len(df))\n",
    "\n",
    "# Imprimez les états générés\n",
    "print(\"États générés :\")\n",
    "print(df['etat'].values)\n",
    "\n",
    "# Imprimez les états prédits par le modèle\n",
    "print(\"États prédits par le modèle :\")\n",
    "print(echantillons.flatten().astype(int))\n"
   ]
  },
  {
   "cell_type": "code",
   "execution_count": null,
   "id": "a2748854",
   "metadata": {},
   "outputs": [],
   "source": []
  }
 ],
 "metadata": {
  "kernelspec": {
   "display_name": "Python 3 (ipykernel)",
   "language": "python",
   "name": "python3"
  },
  "language_info": {
   "codemirror_mode": {
    "name": "ipython",
    "version": 3
   },
   "file_extension": ".py",
   "mimetype": "text/x-python",
   "name": "python",
   "nbconvert_exporter": "python",
   "pygments_lexer": "ipython3",
   "version": "3.11.5"
  }
 },
 "nbformat": 4,
 "nbformat_minor": 5
}
