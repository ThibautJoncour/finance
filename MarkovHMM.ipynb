{
 "cells": [
  {
   "cell_type": "code",
   "execution_count": 1,
   "id": "c8289f77",
   "metadata": {},
   "outputs": [
    {
     "name": "stderr",
     "output_type": "stream",
     "text": [
      "C:\\Users\\Thibaut Joncour\\AppData\\Local\\Temp\\ipykernel_23072\\3118896856.py:17: UserWarning: DelftStack\n",
      "  warnings.warn('DelftStack')\n"
     ]
    },
    {
     "name": "stdout",
     "output_type": "stream",
     "text": [
      "No Warning Shown\n",
      "[*********************100%%**********************]  1 of 1 completed\n",
      "[*********************100%%**********************]  1 of 1 completed\n",
      "États cachés prédits pour les données de test : 1174\n"
     ]
    },
    {
     "data": {
      "image/png": "[encoded data removed]",
      "text/plain": [
       "<Figure size 800x600 with 2 Axes>"
      ]
     },
     "metadata": {},
     "output_type": "display_data"
    }
   ],
   "source": [
    "from sklearn.model_selection import train_test_split\n",
    "from hmmlearn import hmm\n",
    "import numpy as np\n",
    "from sklearn.metrics import confusion_matrix\n",
    "import seaborn as sns\n",
    "import matplotlib.pyplot as plt\n",
    "# Supposez que 'df1' est votre DataFrame avec la colonne 'binary_correlation'\n",
    "# Assurez-vous d'ajuster le nom de la colonne en fonction de votre DataFrame\n",
    "\n",
    "import numpy as np\n",
    "import pandas as pd\n",
    "import matplotlib.pyplot as plt\n",
    "import seaborn as sns\n",
    "import yfinance as yf\n",
    "import warnings\n",
    "warnings.filterwarnings('ignore', '.*do not.*' )\n",
    "warnings.warn('DelftStack')\n",
    "warnings.warn('Do not show this message')\n",
    "import warnings\n",
    "warnings.filterwarnings('ignore')\n",
    "warnings.warn('DelftStack')\n",
    "warnings.warn('Do not show this message')\n",
    "print(\"No Warning Shown\")\n",
    "plt.style.use('ggplot')\n",
    "\n",
    "\n",
    "\n",
    "# Scrapping on Yahoo Finance\n",
    "def data(x):\n",
    "    df =yf.download(tickers=x,   period='300mo', interval='1d')\n",
    "\n",
    "    \n",
    "    df = df['Close']\n",
    "    df = df[:]\n",
    "    \n",
    "    return df\n",
    "\n",
    "\n",
    "df = yf.download(tickers='ES=F',  period='300mo', interval='1d')\n",
    "df = df.iloc[:,3:4]\n",
    "liste = ['BTC-USD']\n",
    "col = ['SP500','BTC']\n",
    "for i in liste:\n",
    "    df[i] = data(i)\n",
    "df.columns = col\n",
    "np.shape(df)\n",
    "\n",
    "df = df.fillna(method='ffill')\n",
    "# Calcul des rendements \n",
    "df1 = df.pct_change()*100\n",
    "\n",
    "# Rolling covariance \n",
    "\n",
    "df1['cov BTC/SPX'] = df1['BTC'].rolling(32).cov(df1['SP500'])\n",
    "\n",
    "# Rolling Corrélation\n",
    "\n",
    "df1['corr BTC/SPX'] = df1['BTC'].rolling(32).corr(df1['SP500'])\n",
    "\n",
    "# Rolling Variance of BTC\n",
    "df1['variance BTC'] = df1['SP500'].rolling(32).var()\n",
    "\n",
    "# Rolling Beta\n",
    "\n",
    "df1['beta'] = df1['cov BTC/SPX']/df1['variance BTC']\n",
    "df1\n",
    "\n",
    "\n",
    "df1['binary_correlation'] = (df1['corr BTC/SPX'] > 0).astype(int)\n",
    "\n",
    "\n",
    "# Extraire la séquence de corrélation\n",
    "correlation_sequence = df1['binary_correlation'].values\n",
    "\n",
    "\n",
    "\n",
    "# Diviser les données en parties d'entraînement et de test\n",
    "train_data, test_data = train_test_split(correlation_sequence, test_size=0.2, shuffle=False, random_state=42)\n",
    "\n",
    "# Créer et entraîner le modèle HMM avec les données d'entraînement\n",
    "model = hmm.GaussianHMM(n_components=2, covariance_type=\"full\")\n",
    "model.fit(train_data.reshape(-1, 1))\n",
    "\n",
    "# Prédire les états cachés sur les données de test\n",
    "hidden_states_test = model.predict(test_data.reshape(-1, 1))\n",
    "\n",
    "# Afficher les états cachés prédits pour les données de test\n",
    "print(\"États cachés prédits pour les données de test :\", len(hidden_states_test))\n",
    "conf_matrix = confusion_matrix(test_data, hidden_states_test)\n",
    "\n",
    "# Afficher la matrice de confusion avec seaborn\n",
    "plt.figure(figsize=(8, 6))\n",
    "sns.heatmap(conf_matrix, annot=True, fmt='d', cmap='Blues', xticklabels=['État 1', 'État 2'], yticklabels=['État 1', 'État 2'])\n",
    "plt.xlabel('Prédit')\n",
    "plt.ylabel('Réel')\n",
    "plt.title('Matrice de Confusion')\n",
    "plt.show()"
   ]
  },
  {
   "cell_type": "code",
   "execution_count": null,
   "id": "1f0ce4e5",
   "metadata": {},
   "outputs": [],
   "source": []
  }
 ],
 "metadata": {
  "kernelspec": {
   "display_name": "Python 3 (ipykernel)",
   "language": "python",
   "name": "python3"
  },
  "language_info": {
   "codemirror_mode": {
    "name": "ipython",
    "version": 3
   },
   "file_extension": ".py",
   "mimetype": "text/x-python",
   "name": "python",
   "nbconvert_exporter": "python",
   "pygments_lexer": "ipython3",
   "version": "3.11.5"
  }
 },
 "nbformat": 4,
 "nbformat_minor": 5
}
